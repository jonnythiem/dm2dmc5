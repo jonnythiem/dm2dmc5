{
 "cells": [
  {
   "cell_type": "code",
   "execution_count": 1,
   "metadata": {},
   "outputs": [],
   "source": [
    "import numpy as np\n",
    "import pandas as pd\n",
    "import matplotlib.pyplot as plt\n",
    "from sklearn import preprocessing\n",
    "from sklearn import decomposition\n",
    "from sklearn import linear_model\n",
    "\n",
    "from sklearn.model_selection import cross_validate, StratifiedKFold\n",
    "from sklearn.metrics import make_scorer\n",
    "\n",
    "from sklearn.feature_selection import SelectKBest\n",
    "from sklearn.pipeline import Pipeline\n",
    "from sklearn.pipeline import FeatureUnion\n",
    "\n",
    "import sklearn as sk"
   ]
  },
  {
   "cell_type": "code",
   "execution_count": 2,
   "metadata": {},
   "outputs": [],
   "source": [
    "pd.set_option('display.max_columns', 100)\n",
    "train=pd.read_csv(\"train.csv\", sep=\"|\")\n",
    "test = pd.read_csv(\"test.csv\", sep=\"|\")\n",
    "\n",
    "X_ori = train.drop(columns='fraud')\n",
    "\n",
    "train['totalScanned'] = train['scannedLineItemsPerSecond'] * train['totalScanTimeInSeconds']\n",
    "test['totalScanned'] = test['scannedLineItemsPerSecond'] * test['totalScanTimeInSeconds']\n",
    "# totalScanned:\n",
    "train['totalScanned'] = train['scannedLineItemsPerSecond'] * train['totalScanTimeInSeconds']\n",
    "\n",
    "# avgValuePerScan:\n",
    "train['avgTimePerScan'] = 1/ train['scannedLineItemsPerSecond']\n",
    "train['avgValuePerScan'] = train['avgTimePerScan'] * train['valuePerSecond']\n",
    "\n",
    "\n",
    "\n",
    "# manual feature generation - \"totalScanned\" ratios\n",
    "\n",
    "# withoutRegisPerPosition\n",
    "train['withoutRegisPerPosition'] = train['scansWithoutRegistration'] / train['totalScanned']\n",
    "# ratio of scansWithoutRegis in totalScan\n",
    "# equivalent to lineItemVoidsPerPosition\n",
    "# Might indicate how new or ambivalent a customer is. Expected to be higher for low \"trustLevel\"\n",
    "\n",
    "# quantiModPerPosition\n",
    "train['quantiModPerPosition'] = train['quantityModifications'] / train['totalScanned']\n",
    "# ratio of quanityMods in totalScan\n",
    "\n",
    "\n",
    "\n",
    "# manual feature generation - \"grandTotal\" ratios\n",
    "\n",
    "# lineItemVoidsPerTotal\n",
    "train['lineItemVoidsPerTotal'] = train['lineItemVoids'] / train['grandTotal']\n",
    "\n",
    "# withoutRegisPerTotal\n",
    "train['withoutRegisPerTotal'] = train['scansWithoutRegistration'] / train['grandTotal']\n",
    "\n",
    "# quantiModPerTotal\n",
    "train['quantiModPerTotal'] = train['quantityModifications'] / train['grandTotal']\n",
    "\n",
    "\n",
    "\n",
    "# manual feature generation - \"totalScanTimeInSeconds\" ratios\n",
    "\n",
    "# lineItemVoidsPerTime\n",
    "train['lineItemVoidsPerTime'] = train['lineItemVoids'] / train['totalScanTimeInSeconds']\n",
    "\n",
    "# withoutRegisPerTime\n",
    "train['withoutRegisPerTime'] = train['scansWithoutRegistration'] / train['totalScanTimeInSeconds']\n",
    "\n",
    "# quantiModPerTime\n",
    "train['quantiModPerTime'] = train['quantityModifications'] / train['totalScanTimeInSeconds']"
   ]
  },
  {
   "cell_type": "code",
   "execution_count": 3,
   "metadata": {},
   "outputs": [],
   "source": [
    "# no preprocessing (no fixed seed?)\n",
    "\n",
    "X = train.drop(columns='fraud')\n",
    "y = train['fraud']\n",
    "\n",
    "def profit_scorer(y, y_pred):\n",
    "    profit_matrix = {(0,0): 0, (0,1): -5, (1,0): -25, (1,1): 5}\n",
    "    return sum(profit_matrix[(pred, actual)] for pred, actual in zip(y_pred, y))\n",
    "                            # zip baut aus jedem iterierbaren object ein Tuple\n",
    "\n",
    "profit_scoring = make_scorer(profit_scorer, greater_is_better=True)\n",
    "\n",
    "cv = StratifiedKFold(n_splits=10, random_state=42)"
   ]
  },
  {
   "cell_type": "code",
   "execution_count": 41,
   "metadata": {},
   "outputs": [
    {
     "name": "stdout",
     "output_type": "stream",
     "text": [
      "LR with PCA\n",
      "C set to:  0.1\n",
      "LR score: -205\n",
      "C set to:  1\n",
      "LR score: 260\n",
      "C set to:  2\n",
      "LR score: 300\n",
      "C set to:  3\n",
      "LR score: 295\n",
      "C set to:  4\n",
      "LR score: 295\n",
      "C set to:  5\n",
      "LR score: 305\n"
     ]
    }
   ],
   "source": [
    "# create feature union\n",
    "features = []\n",
    "features.append(('select_best', SelectKBest(k=16)))\n",
    "features.append(('pca', decomposition.PCA(n_components=2)))\n",
    "\n",
    "feature_union = FeatureUnion(features)\n",
    "print('LR with PCA')\n",
    "estimators = []\n",
    "estimators.append(('feature_union', feature_union))\n",
    "estimators.append(('scaler',preprocessing.StandardScaler()))\n",
    "\n",
    "\n",
    "for c in range(6):\n",
    "    if(c==0):\n",
    "        c=0.1\n",
    "    estimators.append(('LR', linear_model.LogisticRegression(C = c, solver = 'liblinear')))\n",
    "    lr_af = Pipeline(estimators)\n",
    "    print('C set to: ',c)\n",
    "    print('LR score: {}'.format(sum(cross_validate(lr_af, X, y=y, cv=cv, scoring=profit_scoring)['test_score'])))\n",
    "    estimators.pop()"
   ]
  }
 ],
 "metadata": {
  "kernelspec": {
   "display_name": "Python 3",
   "language": "python",
   "name": "python3"
  },
  "language_info": {
   "codemirror_mode": {
    "name": "ipython",
    "version": 3
   },
   "file_extension": ".py",
   "mimetype": "text/x-python",
   "name": "python",
   "nbconvert_exporter": "python",
   "pygments_lexer": "ipython3",
   "version": "3.6.7"
  }
 },
 "nbformat": 4,
 "nbformat_minor": 2
}
