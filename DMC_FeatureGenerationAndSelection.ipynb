{
 "cells": [
  {
   "cell_type": "code",
   "execution_count": 1,
   "metadata": {},
   "outputs": [],
   "source": [
    "import pandas as pd\n",
    "import numpy as np\n",
    "import seaborn as sns\n",
    "import matplotlib.pyplot as plt\n",
    "sns.set_style('whitegrid')\n",
    "%matplotlib inline\n",
    "import warnings\n",
    "warnings.filterwarnings('ignore')"
   ]
  },
  {
   "cell_type": "code",
   "execution_count": 2,
   "metadata": {},
   "outputs": [
    {
     "name": "stderr",
     "output_type": "stream",
     "text": [
      "paramiko missing, opening SSH/SCP/SFTP paths will be disabled.  `pip install paramiko` to suppress\n"
     ]
    }
   ],
   "source": [
    "from sklearn.model_selection import StratifiedKFold\n",
    "from sklearn.model_selection import cross_validate\n",
    "from sklearn.pipeline import Pipeline\n",
    "from sklearn.pipeline import FeatureUnion\n",
    "from sklearn.linear_model import LogisticRegression\n",
    "from sklearn.decomposition import PCA\n",
    "from sklearn.feature_selection import SelectKBest\n",
    "from sklearn.metrics import make_scorer\n",
    "from xgboost import XGBClassifier\n",
    "import featuretools as ft\n",
    "from sklearn.naive_bayes import GaussianNB\n",
    "from sklearn.tree import DecisionTreeClassifier\n",
    "from sklearn.neighbors import KNeighborsClassifier\n",
    "from sklearn.ensemble import RandomForestClassifier\n",
    "from sklearn.neural_network import MLPClassifier\n",
    "from sklearn.svm import SVC\n",
    "from sklearn.linear_model import SGDClassifier"
   ]
  },
  {
   "cell_type": "code",
   "execution_count": 3,
   "metadata": {},
   "outputs": [],
   "source": [
    "# load data\n",
    "dataframe_org = pd.read_csv('train.csv', delimiter='|')\n",
    "dataframe = dataframe_org.copy()\n",
    "\n",
    "########### manual feature generation ##########\n",
    "\n",
    "# totalScanned:\n",
    "dataframe['totalScanned'] = dataframe['scannedLineItemsPerSecond'] * dataframe['totalScanTimeInSeconds']\n",
    "# avgValuePerScan:\n",
    "dataframe['avgTimePerScan'] = 1/ dataframe['scannedLineItemsPerSecond']\n",
    "dataframe['avgValuePerScan'] = dataframe['avgTimePerScan'] * dataframe['valuePerSecond']\n",
    "# manual feature generation - \"totalScanned\" ratios\n",
    "# withoutRegisPerPosition\n",
    "dataframe['withoutRegisPerPosition'] = dataframe['scansWithoutRegistration'] / dataframe['totalScanned']\n",
    "# ratio of scansWithoutRegis in totalScan\n",
    "# equivalent to lineItemVoidsPerPosition\n",
    "# Might indicate how new or ambivalent a customer is. Expected to be higher for low \"trustLevel\"\n",
    "# quantiModPerPosition\n",
    "dataframe['quantiModPerPosition'] = dataframe['quantityModifications'] / dataframe['totalScanned']\n",
    "# ratio of quanityMods in totalScan\n",
    "# manual feature generation - \"grandTotal\" ratios\n",
    "# lineItemVoidsPerTotal\n",
    "dataframe['lineItemVoidsPerTotal'] = dataframe['lineItemVoids'] / dataframe['grandTotal']\n",
    "# withoutRegisPerTotal\n",
    "dataframe['withoutRegisPerTotal'] = dataframe['scansWithoutRegistration'] / dataframe['grandTotal']\n",
    "# quantiModPerTotal\n",
    "dataframe['quantiModPerTotal'] = dataframe['quantityModifications'] / dataframe['grandTotal']\n",
    "# manual feature generation - \"totalScanTimeInSeconds\" ratios\n",
    "# lineItemVoidsPerTime\n",
    "dataframe['lineItemVoidsPerTime'] = dataframe['lineItemVoids'] / dataframe['totalScanTimeInSeconds']\n",
    "# withoutRegisPerTime\n",
    "dataframe['withoutRegisPerTime'] = dataframe['scansWithoutRegistration'] / dataframe['totalScanTimeInSeconds']\n",
    "# quantiModPerTime\n",
    "dataframe['quantiModPerTime'] = dataframe['quantityModifications'] / dataframe['totalScanTimeInSeconds']\n",
    "\n",
    "########### end manual feature generation ###########\n",
    "\n",
    "\n",
    "X = dataframe.drop('fraud',axis=1)\n",
    "y = dataframe['fraud']\n",
    "es = ft.EntitySet(id = 'customers')\n",
    "es = es.entity_from_dataframe(entity_id='customers',dataframe=X,\n",
    "                              variable_types = {'trustLevel': ft.variable_types.Categorical},index='id',make_index=True)\n"
   ]
  },
  {
   "cell_type": "code",
   "execution_count": 32,
   "metadata": {},
   "outputs": [],
   "source": [
    "dataframe = dataframe[['trustLevel', 'totalScanTimeInSeconds', 'grandTotal', 'lineItemVoids',\n",
    "       'scansWithoutRegistration', 'quantityModifications',\n",
    "       'scannedLineItemsPerSecond', 'valuePerSecond',\n",
    "       'lineItemVoidsPerPosition', 'totalScanned', 'avgTimePerScan',\n",
    "       'avgValuePerScan', 'withoutRegisPerPosition', 'quantiModPerPosition',\n",
    "       'lineItemVoidsPerTotal', 'withoutRegisPerTotal', 'quantiModPerTotal',\n",
    "       'lineItemVoidsPerTime', 'withoutRegisPerTime', 'quantiModPerTime', 'fraud']]"
   ]
  },
  {
   "cell_type": "code",
   "execution_count": 4,
   "metadata": {},
   "outputs": [],
   "source": [
    "cv = StratifiedKFold(n_splits=10, random_state=42)\n",
    "def profit_scorer(y, y_pred):\n",
    "    profit_matrix = {(0,0): 0, (0,1): -5, (1,0): -25, (1,1): 5}\n",
    "    return sum(profit_matrix[(pred, actual)] for pred, actual in zip(y_pred, y))\n",
    "profit_scoring = make_scorer(profit_scorer, greater_is_better=True)"
   ]
  },
  {
   "cell_type": "code",
   "execution_count": 6,
   "metadata": {},
   "outputs": [
    {
     "name": "stdout",
     "output_type": "stream",
     "text": [
      "Baseline models of original data w/out pre-processing and default parameters: \n",
      "\n",
      "XGB: -80\n",
      "LR: -360\n",
      "GNB: -7185\n",
      "KNN: -520\n",
      "RF: -180\n",
      "MLP: -1030\n",
      "SVC: -520\n",
      "SGD: -520\n"
     ]
    }
   ],
   "source": [
    "#Baseline model of original data w/out pre-processing\n",
    "X_base_org = dataframe_org.drop('fraud',axis=1)\n",
    "y_base_org = dataframe_org['fraud']\n",
    "print('Baseline models of original data w/out pre-processing and default parameters: \\n')\n",
    "print('XGB: {}'.format(sum(cross_validate(XGBClassifier(), X_base_org, y=y_base_org, cv=cv, scoring=profit_scoring)['test_score'])))\n",
    "print('LR: {}'.format(sum(cross_validate(LogisticRegression(), X_base_org, y=y_base_org, cv=cv, scoring=profit_scoring)['test_score'])))\n",
    "print('GNB: {}'.format(sum(cross_validate(GaussianNB(), X_base_org, y=y_base_org, cv=cv, scoring=profit_scoring)['test_score'])))\n",
    "print('KNN: {}'.format(sum(cross_validate(KNeighborsClassifier(), X_base_org, y=y_base_org, cv=cv, scoring=profit_scoring)['test_score'])))\n",
    "print('RF: {}'.format(sum(cross_validate(RandomForestClassifier(), X_base_org, y=y_base_org, cv=cv, scoring=profit_scoring)['test_score'])))\n",
    "print('MLP: {}'.format(sum(cross_validate(MLPClassifier(), X_base_org, y=y_base_org, cv=cv, scoring=profit_scoring)['test_score'])))\n",
    "print('SVC: {}'.format(sum(cross_validate(SVC(), X_base_org, y=y_base_org, cv=cv, scoring=profit_scoring)['test_score'])))\n",
    "print('SGD: {}'.format(sum(cross_validate(SGDClassifier(), X_base_org, y=y_base_org, cv=cv, scoring=profit_scoring)['test_score'])))"
   ]
  },
  {
   "cell_type": "code",
   "execution_count": 7,
   "metadata": {
    "scrolled": true
   },
   "outputs": [
    {
     "name": "stdout",
     "output_type": "stream",
     "text": [
      "Baseline models of data w/ manual features generated: \n",
      "\n",
      "XGB: 230\n",
      "LR: 210\n",
      "GNB: -9140\n",
      "KNN: -910\n",
      "RF: -20\n",
      "MLP: -195\n",
      "SVC: -520\n",
      "SGD: -595\n"
     ]
    }
   ],
   "source": [
    "#Baseline models of data w/ manual feature generated\n",
    "X_base = dataframe.drop('fraud',axis=1)\n",
    "y_base = dataframe['fraud']\n",
    "print('Baseline models of data w/ manual features generated: \\n')\n",
    "print('XGB: {}'.format(sum(cross_validate(XGBClassifier(), X_base, y=y_base, cv=cv, scoring=profit_scoring)['test_score'])))\n",
    "print('LR: {}'.format(sum(cross_validate(LogisticRegression(), X_base, y=y_base, cv=cv, scoring=profit_scoring)['test_score'])))\n",
    "print('GNB: {}'.format(sum(cross_validate(GaussianNB(), X_base, y=y_base, cv=cv, scoring=profit_scoring)['test_score'])))\n",
    "print('KNN: {}'.format(sum(cross_validate(KNeighborsClassifier(), X_base, y=y_base, cv=cv, scoring=profit_scoring)['test_score'])))\n",
    "print('RF: {}'.format(sum(cross_validate(RandomForestClassifier(), X_base, y=y_base, cv=cv, scoring=profit_scoring)['test_score'])))\n",
    "print('MLP: {}'.format(sum(cross_validate(MLPClassifier(), X_base, y=y_base, cv=cv, scoring=profit_scoring)['test_score'])))\n",
    "print('SVC: {}'.format(sum(cross_validate(SVC(), X_base, y=y_base, cv=cv, scoring=profit_scoring)['test_score'])))\n",
    "print('SGD: {}'.format(sum(cross_validate(SGDClassifier(), X_base, y=y_base, cv=cv, scoring=profit_scoring)['test_score'])))"
   ]
  },
  {
   "cell_type": "code",
   "execution_count": 36,
   "metadata": {},
   "outputs": [
    {
     "data": {
      "text/plain": [
       "<matplotlib.axes._subplots.AxesSubplot at 0x1ba140eb278>"
      ]
     },
     "execution_count": 36,
     "metadata": {},
     "output_type": "execute_result"
    },
    {
     "data": {
      "image/png": "[encoded data removed]",
      "text/plain": [
       "<Figure size 1152x864 with 2 Axes>"
      ]
     },
     "metadata": {
      "needs_background": "light"
     },
     "output_type": "display_data"
    }
   ],
   "source": [
    "plt.figure(figsize=(16,12))\n",
    "sns.heatmap(dataframe.corr(), cmap='coolwarm')"
   ]
  },
  {
   "cell_type": "code",
   "execution_count": 37,
   "metadata": {},
   "outputs": [
    {
     "name": "stdout",
     "output_type": "stream",
     "text": [
      "[1.65e+02 6.90e+03 6.24e-02 1.65e+01 2.07e+01 1.60e-03 1.34e+00 1.20e+01\n",
      " 3.60e+01 8.24e+02 5.60e+03 4.01e+02 3.29e+01 2.09e+01 1.26e+01 1.18e+01\n",
      " 3.72e+00 1.07e+00 8.81e-01 5.81e-01]\n",
      "Index(['trustLevel', 'totalScanTimeInSeconds', 'grandTotal', 'lineItemVoids',\n",
      "       'scansWithoutRegistration', 'quantityModifications',\n",
      "       'scannedLineItemsPerSecond', 'valuePerSecond',\n",
      "       'lineItemVoidsPerPosition', 'totalScanned', 'avgTimePerScan',\n",
      "       'avgValuePerScan', 'withoutRegisPerPosition', 'quantiModPerPosition',\n",
      "       'lineItemVoidsPerTotal', 'withoutRegisPerTotal', 'quantiModPerTotal',\n",
      "       'lineItemVoidsPerTime', 'withoutRegisPerTime', 'quantiModPerTime'],\n",
      "      dtype='object')\n",
      "[[5.00e+00 1.05e+03 2.41e-01 2.90e+01 3.63e+01 1.89e+00]\n",
      " [3.00e+00 1.08e+02 3.57e-01 1.40e+01 7.71e+00 1.95e+00]\n",
      " [3.00e+00 1.52e+03 2.31e-01 1.30e+01 1.17e+02 4.78e+00]\n",
      " [6.00e+00 1.79e+03 2.76e-01 2.90e+01 6.18e+01 3.18e+00]\n",
      " [5.00e+00 4.30e+02 1.11e-01 2.70e+01 1.59e+01 3.02e+00]]\n"
     ]
    }
   ],
   "source": [
    "# SelectKBest with chi squared (chi^2) statistical test for non-negative features\n",
    "from sklearn.feature_selection import chi2\n",
    "# feature extraction\n",
    "test = SelectKBest(score_func=chi2, k=6)\n",
    "fit = test.fit(X_base, y_base)\n",
    "# summarize scores\n",
    "np.set_printoptions(precision=2)\n",
    "print(fit.scores_)\n",
    "print(X_base.columns)\n",
    "features = fit.transform(X_base)\n",
    "# summarize selected features\n",
    "print(features[0:5,:])"
   ]
  },
  {
   "cell_type": "markdown",
   "metadata": {},
   "source": [
    "6 Features selected by SelectKBest based on chi2 (the ones that have the highest score in the first array of the output)<br>'totalScanTimeInSeconds', 'avgTimePerScan', 'totalScanned', 'avgValuePerScan', 'trustLevel', 'lineItemVoidsPerPosition'"
   ]
  },
  {
   "cell_type": "code",
   "execution_count": 38,
   "metadata": {},
   "outputs": [
    {
     "name": "stdout",
     "output_type": "stream",
     "text": [
      "Different classifiers tested w/ only the 6 best performing features selected by KSelect: \n",
      "\n",
      "XGB: -10\n",
      "LR: -30\n",
      "GNB: -3715\n",
      "KNN: -855\n",
      "RF: -100\n",
      "MLP: -515\n",
      "SVC: -520\n",
      "SGD: -1635\n"
     ]
    }
   ],
   "source": [
    "#testing the 6 best performing features w/ all others excluded \n",
    "X_kselect = dataframe[['totalScanTimeInSeconds', 'avgTimePerScan', 'totalScanned', \n",
    "                       'avgValuePerScan', 'trustLevel', 'lineItemVoidsPerPosition']]\n",
    "y_kselect = dataframe['fraud']\n",
    "print('Different classifiers tested w/ only the 6 best performing features selected by KSelect: \\n')\n",
    "print('XGB: {}'.format(sum(cross_validate(XGBClassifier(), X_kselect, y=y_kselect, cv=cv, scoring=profit_scoring)['test_score'])))\n",
    "print('LR: {}'.format(sum(cross_validate(LogisticRegression(), X_kselect, y=y_kselect, cv=cv, scoring=profit_scoring)['test_score'])))\n",
    "print('GNB: {}'.format(sum(cross_validate(GaussianNB(), X_kselect, y=y_kselect, cv=cv, scoring=profit_scoring)['test_score'])))\n",
    "print('KNN: {}'.format(sum(cross_validate(KNeighborsClassifier(), X_kselect, y=y_kselect, cv=cv, scoring=profit_scoring)['test_score'])))\n",
    "print('RF: {}'.format(sum(cross_validate(RandomForestClassifier(), X_kselect, y=y_kselect, cv=cv, scoring=profit_scoring)['test_score'])))\n",
    "print('MLP: {}'.format(sum(cross_validate(MLPClassifier(), X_kselect, y=y_kselect, cv=cv, scoring=profit_scoring)['test_score'])))\n",
    "print('SVC: {}'.format(sum(cross_validate(SVC(), X_kselect, y=y_kselect, cv=cv, scoring=profit_scoring)['test_score'])))\n",
    "print('SGD: {}'.format(sum(cross_validate(SGDClassifier(), X_kselect, y=y_kselect, cv=cv, scoring=profit_scoring)['test_score'])))"
   ]
  },
  {
   "cell_type": "code",
   "execution_count": 8,
   "metadata": {},
   "outputs": [
    {
     "name": "stdout",
     "output_type": "stream",
     "text": [
      "XGB with SelectKBest k=4: \n",
      "\n",
      "W/out pre-processing: -80\n",
      "W/ manual feature generated: 155\n",
      "---------\n",
      "XGB with SelectKBest k=5: \n",
      "\n",
      "W/out pre-processing: -80\n",
      "W/ manual feature generated: 155\n",
      "---------\n",
      "XGB with SelectKBest k=6: \n",
      "\n",
      "W/out pre-processing: -235\n",
      "W/ manual feature generated: 40\n",
      "---------\n",
      "XGB with SelectKBest k=7: \n",
      "\n",
      "W/out pre-processing: -120\n",
      "W/ manual feature generated: 10\n",
      "---------\n",
      "XGB with SelectKBest k=8: \n",
      "\n",
      "W/out pre-processing: -60\n",
      "W/ manual feature generated: 115\n",
      "---------\n",
      "XGB with SelectKBest k=9: \n",
      "\n",
      "W/out pre-processing: -80\n",
      "W/ manual feature generated: 155\n",
      "---------\n",
      "XGB with SelectKBest k=10: \n",
      "\n",
      "W/out pre-processing: -80\n",
      "W/ manual feature generated: 155\n"
     ]
    }
   ],
   "source": [
    "print('XGB with SelectKBest k=4: \\n')\n",
    "# create feature union\n",
    "features = []\n",
    "features.append(('select_best', SelectKBest(k=9)))\n",
    "feature_union = FeatureUnion(features)\n",
    "estimators = []\n",
    "estimators.append(('feature_union', feature_union))\n",
    "estimators.append(('xgb', XGBClassifier()))\n",
    "xgb_pca_kBest = Pipeline(estimators)\n",
    "# evaluate pipeline\n",
    "\n",
    "print('W/out pre-processing: {}'.format(sum(cross_validate(xgb_pca_kBest, X_base_org, y=y_base_org, \n",
    "                                                           cv=cv, scoring=profit_scoring)['test_score'])))\n",
    "print('W/ manual feature generated: {}'.format(sum(cross_validate(xgb_pca_kBest, X_base, y=y_base\n",
    "                                                          , cv=cv, scoring=profit_scoring)['test_score'])))\n",
    "print('---------')\n",
    "print('XGB with SelectKBest k=5: \\n')\n",
    "# create feature union\n",
    "features = []\n",
    "features.append(('select_best', SelectKBest(k=9)))\n",
    "feature_union = FeatureUnion(features)\n",
    "estimators = []\n",
    "estimators.append(('feature_union', feature_union))\n",
    "estimators.append(('xgb', XGBClassifier()))\n",
    "xgb_pca_kBest = Pipeline(estimators)\n",
    "# evaluate pipeline\n",
    "\n",
    "print('W/out pre-processing: {}'.format(sum(cross_validate(xgb_pca_kBest, X_base_org, y=y_base_org, \n",
    "                                                           cv=cv, scoring=profit_scoring)['test_score'])))\n",
    "print('W/ manual feature generated: {}'.format(sum(cross_validate(xgb_pca_kBest, X_base, y=y_base\n",
    "                                                          , cv=cv, scoring=profit_scoring)['test_score'])))\n",
    "print('---------')\n",
    "print('XGB with SelectKBest k=6: \\n')\n",
    "# create feature union\n",
    "features = []\n",
    "features.append(('select_best', SelectKBest(k=6)))\n",
    "feature_union = FeatureUnion(features)\n",
    "estimators = []\n",
    "estimators.append(('feature_union', feature_union))\n",
    "estimators.append(('xgb', XGBClassifier()))\n",
    "xgb_pca_kBest = Pipeline(estimators)\n",
    "# evaluate pipeline\n",
    "\n",
    "print('W/out pre-processing: {}'.format(sum(cross_validate(xgb_pca_kBest, X_base_org, y=y_base_org, \n",
    "                                                           cv=cv, scoring=profit_scoring)['test_score'])))\n",
    "print('W/ manual feature generated: {}'.format(sum(cross_validate(xgb_pca_kBest, X_base, y=y_base\n",
    "                                                          , cv=cv, scoring=profit_scoring)['test_score'])))\n",
    "\n",
    "print('---------')\n",
    "print('XGB with SelectKBest k=7: \\n')\n",
    "# create feature union\n",
    "features = []\n",
    "features.append(('select_best', SelectKBest(k=7)))\n",
    "feature_union = FeatureUnion(features)\n",
    "estimators = []\n",
    "estimators.append(('feature_union', feature_union))\n",
    "estimators.append(('xgb', XGBClassifier()))\n",
    "xgb_pca_kBest = Pipeline(estimators)\n",
    "# evaluate pipeline\n",
    "\n",
    "print('W/out pre-processing: {}'.format(sum(cross_validate(xgb_pca_kBest, X_base_org, y=y_base_org, \n",
    "                                                           cv=cv, scoring=profit_scoring)['test_score'])))\n",
    "print('W/ manual feature generated: {}'.format(sum(cross_validate(xgb_pca_kBest, X_base, y=y_base\n",
    "                                                          , cv=cv, scoring=profit_scoring)['test_score'])))\n",
    "\n",
    "print('---------')\n",
    "print('XGB with SelectKBest k=8: \\n')\n",
    "# create feature union\n",
    "features = []\n",
    "features.append(('select_best', SelectKBest(k=8)))\n",
    "feature_union = FeatureUnion(features)\n",
    "estimators = []\n",
    "estimators.append(('feature_union', feature_union))\n",
    "estimators.append(('xgb', XGBClassifier()))\n",
    "xgb_pca_kBest = Pipeline(estimators)\n",
    "# evaluate pipeline\n",
    "\n",
    "print('W/out pre-processing: {}'.format(sum(cross_validate(xgb_pca_kBest, X_base_org, y=y_base_org, \n",
    "                                                           cv=cv, scoring=profit_scoring)['test_score'])))\n",
    "print('W/ manual feature generated: {}'.format(sum(cross_validate(xgb_pca_kBest, X_base, y=y_base\n",
    "                                                          , cv=cv, scoring=profit_scoring)['test_score'])))\n",
    "print('---------')\n",
    "print('XGB with SelectKBest k=9: \\n')\n",
    "# create feature union\n",
    "features = []\n",
    "features.append(('select_best', SelectKBest(k=9)))\n",
    "feature_union = FeatureUnion(features)\n",
    "estimators = []\n",
    "estimators.append(('feature_union', feature_union))\n",
    "estimators.append(('xgb', XGBClassifier()))\n",
    "xgb_pca_kBest = Pipeline(estimators)\n",
    "# evaluate pipeline\n",
    "\n",
    "print('W/out pre-processing: {}'.format(sum(cross_validate(xgb_pca_kBest, X_base_org, y=y_base_org, \n",
    "                                                           cv=cv, scoring=profit_scoring)['test_score'])))\n",
    "print('W/ manual feature generated: {}'.format(sum(cross_validate(xgb_pca_kBest, X_base, y=y_base\n",
    "                                                          , cv=cv, scoring=profit_scoring)['test_score'])))\n",
    "print('---------')\n",
    "print('XGB with SelectKBest k=10: \\n')\n",
    "# create feature union\n",
    "features = []\n",
    "features.append(('select_best', SelectKBest(k=9)))\n",
    "feature_union = FeatureUnion(features)\n",
    "estimators = []\n",
    "estimators.append(('feature_union', feature_union))\n",
    "estimators.append(('xgb', XGBClassifier()))\n",
    "xgb_pca_kBest = Pipeline(estimators)\n",
    "# evaluate pipeline\n",
    "\n",
    "print('W/out pre-processing: {}'.format(sum(cross_validate(xgb_pca_kBest, X_base_org, y=y_base_org, \n",
    "                                                           cv=cv, scoring=profit_scoring)['test_score'])))\n",
    "print('W/ manual feature generated: {}'.format(sum(cross_validate(xgb_pca_kBest, X_base, y=y_base\n",
    "                                                          , cv=cv, scoring=profit_scoring)['test_score'])))"
   ]
  },
  {
   "cell_type": "code",
   "execution_count": 9,
   "metadata": {},
   "outputs": [
    {
     "name": "stdout",
     "output_type": "stream",
     "text": [
      "-380\n",
      "-140\n"
     ]
    }
   ],
   "source": [
    "# create feature union\n",
    "features = []\n",
    "features.append(('pca', PCA(n_components=3)))\n",
    "features.append(('select_best', SelectKBest(k=4)))\n",
    "feature_union = FeatureUnion(features)\n",
    "estimators = []\n",
    "estimators.append(('feature_union', feature_union))\n",
    "estimators.append(('xgb', XGBClassifier()))\n",
    "xgb_pca_kBest = Pipeline(estimators)\n",
    "# evaluate pipeline\n",
    "\n",
    "print(sum(cross_validate(xgb_pca_kBest, X_base_org, y=y_base_org, cv=cv, scoring=profit_scoring)['test_score']))\n",
    "print(sum(cross_validate(xgb_pca_kBest, X_base, y=y_base, cv=cv, scoring=profit_scoring)['test_score']))"
   ]
  },
  {
   "cell_type": "code",
   "execution_count": 10,
   "metadata": {},
   "outputs": [
    {
     "name": "stdout",
     "output_type": "stream",
     "text": [
      "XGB w/ PCA & featuretools & SelectKBest on data w/ additional manual features generated: 140\n"
     ]
    }
   ],
   "source": [
    "# Testing PCA, automatic feature generation w/ featuretools (previously manual generated features incorporated), \n",
    "# and SelectKBest\n",
    "\n",
    "# create feature union\n",
    "features = []\n",
    "features.append(('pca', PCA(n_components=3)))\n",
    "features.append(('ft', ft.wrappers.DFSTransformer(entityset = es, target_entity = 'customers', \n",
    "                                 agg_primitives = ['skew','trend','median', 'mean', 'max', 'std'],\n",
    "                                 trans_primitives = ['subtract', 'percentile'])))\n",
    "features.append(('select_best', SelectKBest(k=4)))\n",
    "feature_union = FeatureUnion(features)\n",
    "# create pipeline\n",
    "estimators = []\n",
    "estimators.append(('feature_union', feature_union))\n",
    "estimators.append(('xgb', XGBClassifier()))\n",
    "xgb_af = Pipeline(estimators)\n",
    "\n",
    "print('XGB w/ PCA & featuretools & SelectKBest on data w/ additional manual features generated: {}'.format(sum(cross_validate(xgb_af, X, y=y, cv=cv, scoring=profit_scoring)['test_score'])))"
   ]
  },
  {
   "cell_type": "markdown",
   "metadata": {},
   "source": [
    "Output: XGB w/ PCA & featuretools & SelectKBest on data w/ additional manual features generated: 140"
   ]
  },
  {
   "cell_type": "code",
   "execution_count": 12,
   "metadata": {
    "scrolled": true
   },
   "outputs": [
    {
     "name": "stdout",
     "output_type": "stream",
     "text": [
      "XGB w/ PCA & featuretools (no primitives selected) & SelectKBest on data w/ additional manual features generated: 175\n",
      "LR w/ PCA & featuretools (no primitives selected) & SelectKBest on data w/ additional manual features generated: 270\n",
      "RF w/ PCA & featuretools (no primitives selected) & SelectKBest on data w/ additional manual features generated: 85\n"
     ]
    }
   ],
   "source": [
    "# Testing PCA, automatic feature generation w/ featuretools (previously manual generated features incorporated), \n",
    "# and SelectKBest\n",
    "# create feature union\n",
    "features = []\n",
    "features.append(('pca', PCA(n_components=3)))\n",
    "features.append(('ft', ft.wrappers.DFSTransformer(entityset = es, target_entity = 'customers')))\n",
    "features.append(('select_best', SelectKBest(k=4)))\n",
    "feature_union = FeatureUnion(features)\n",
    "# create pipeline\n",
    "estimators = []\n",
    "estimators.append(('feature_union', feature_union))\n",
    "estimators.append(('xgb', XGBClassifier()))\n",
    "xgb_af = Pipeline(estimators)\n",
    "\n",
    "print('XGB w/ PCA & featuretools (no primitives selected) & SelectKBest on data w/ additional manual features generated: {}'\n",
    "      .format(sum(cross_validate(xgb_af, X, y=y, cv=cv, scoring=profit_scoring)['test_score'])))\n",
    "\n",
    "# create pipeline\n",
    "estimators = []\n",
    "estimators.append(('feature_union', feature_union))\n",
    "estimators.append(('LR', LogisticRegression()))\n",
    "lr_af = Pipeline(estimators)\n",
    "\n",
    "print('LR w/ PCA & featuretools (no primitives selected) & SelectKBest on data w/ additional manual features generated: {}'\n",
    "      .format(sum(cross_validate(lr_af, X, y=y, cv=cv, scoring=profit_scoring)['test_score'])))\n",
    "\n",
    "# create pipeline\n",
    "estimators = []\n",
    "estimators.append(('feature_union', feature_union))\n",
    "estimators.append(('RF', RandomForestClassifier()))\n",
    "rf_af = Pipeline(estimators)\n",
    "\n",
    "print('RF w/ PCA & featuretools (no primitives selected) & SelectKBest on data w/ additional manual features generated: {}'\n",
    "      .format(sum(cross_validate(rf_af, X, y=y, cv=cv, scoring=profit_scoring)['test_score'])))"
   ]
  },
  {
   "cell_type": "markdown",
   "metadata": {},
   "source": [
    "Output: <br>\n",
    "XGB w/ PCA & featuretools (no primitives selected) & SelectKBest on data w/ additional manual features generated: 175<br>\n",
    "LR w/ PCA & featuretools (no primitives selected) & SelectKBest on data w/ additional manual features generated: 270<br>\n",
    "RF w/ PCA & featuretools (no primitives selected) & SelectKBest on data w/ additional manual features generated: 85<br>"
   ]
  },
  {
   "cell_type": "code",
   "execution_count": 14,
   "metadata": {
    "scrolled": true
   },
   "outputs": [
    {
     "name": "stdout",
     "output_type": "stream",
     "text": [
      "XGB w/ featuretools (no primitives selected) on data w/ additional manual generated features: 230\n",
      "LR w/ featuretools (no primitives selected) on data w/ additional manual generated features: 200\n",
      "RF w/ featuretools (no primitives selected) on data w/ additional manual generated features: 15\n"
     ]
    }
   ],
   "source": [
    "# Testing automatic feature generation w/ featuretools\n",
    "# create feature union\n",
    "features = []\n",
    "features.append(('ft', ft.wrappers.DFSTransformer(entityset = es, target_entity = 'customers')))\n",
    "feature_union = FeatureUnion(features)\n",
    "# create pipeline\n",
    "estimators = []\n",
    "estimators.append(('feature_union', feature_union))\n",
    "estimators.append(('xgb', XGBClassifier()))\n",
    "xgb_af = Pipeline(estimators)\n",
    "\n",
    "print('XGB w/ featuretools (no primitives selected) on data w/ additional manual generated features: {}'\n",
    "      .format(sum(cross_validate(xgb_af, X, y=y, cv=cv, scoring=profit_scoring)['test_score'])))\n",
    "\n",
    "# create pipeline\n",
    "estimators = []\n",
    "estimators.append(('feature_union', feature_union))\n",
    "estimators.append(('LR', LogisticRegression()))\n",
    "lr_af = Pipeline(estimators)\n",
    "\n",
    "print('LR w/ featuretools (no primitives selected) on data w/ additional manual generated features: {}'\n",
    "      .format(sum(cross_validate(lr_af, X, y=y, cv=cv, scoring=profit_scoring)['test_score'])))\n",
    "\n",
    "# create pipeline\n",
    "estimators = []\n",
    "estimators.append(('feature_union', feature_union))\n",
    "estimators.append(('RF', RandomForestClassifier()))\n",
    "rf_af = Pipeline(estimators)\n",
    "\n",
    "print('RF w/ featuretools (no primitives selected) on data w/ additional manual generated features: {}'\n",
    "      .format(sum(cross_validate(rf_af, X, y=y, cv=cv, scoring=profit_scoring)['test_score'])))"
   ]
  },
  {
   "cell_type": "markdown",
   "metadata": {},
   "source": [
    "Output:<br>\n",
    "XGB w/ featuretools (no primitives selected) on data w/ additional manual generated features: 230<br>\n",
    "LR w/ featuretools (no primitives selected) on data w/ additional manual generated features: 200<br>\n",
    "RF w/ featuretools (no primitives selected) on data w/ additional manual generated features: 15<br>"
   ]
  },
  {
   "cell_type": "code",
   "execution_count": 40,
   "metadata": {
    "scrolled": true
   },
   "outputs": [
    {
     "name": "stdout",
     "output_type": "stream",
     "text": [
      "Index(['trustLevel', 'totalScanTimeInSeconds', 'grandTotal', 'lineItemVoids',\n",
      "       'scansWithoutRegistration', 'quantityModifications',\n",
      "       'scannedLineItemsPerSecond', 'valuePerSecond',\n",
      "       'lineItemVoidsPerPosition', 'totalScanned', 'avgTimePerScan',\n",
      "       'avgValuePerScan', 'withoutRegisPerPosition', 'quantiModPerPosition',\n",
      "       'lineItemVoidsPerTotal', 'withoutRegisPerTotal', 'quantiModPerTotal',\n",
      "       'lineItemVoidsPerTime', 'withoutRegisPerTime', 'quantiModPerTime'],\n",
      "      dtype='object')\n",
      "[0.26 0.05 0.03 0.03 0.03 0.02 0.04 0.02 0.03 0.18 0.03 0.05 0.04 0.03\n",
      " 0.02 0.02 0.02 0.03 0.04 0.02]\n"
     ]
    }
   ],
   "source": [
    "from sklearn.ensemble import ExtraTreesClassifier\n",
    "model = ExtraTreesClassifier()\n",
    "model.fit(X_base, y_base)\n",
    "print(X_base.columns)\n",
    "print(model.feature_importances_)"
   ]
  },
  {
   "cell_type": "markdown",
   "metadata": {},
   "source": [
    "'trustLevel','totalScanned','totalScanTimeInSeconds','avgTimePerScan' have the highest feature importance with ExtraTreesClassifier"
   ]
  },
  {
   "cell_type": "markdown",
   "metadata": {},
   "source": [
    "### The data w/ the manual features generated leads to the best performance for all tests except for Logistic Regression w/ PCA & featuretools (no primitives selected) & SelectKBest (k=4) on data w/ additional manual generated features incorporated"
   ]
  }
 ],
 "metadata": {
  "kernelspec": {
   "display_name": "Python 3",
   "language": "python",
   "name": "python3"
  },
  "language_info": {
   "codemirror_mode": {
    "name": "ipython",
    "version": 3
   },
   "file_extension": ".py",
   "mimetype": "text/x-python",
   "name": "python",
   "nbconvert_exporter": "python",
   "pygments_lexer": "ipython3",
   "version": "3.7.1"
  }
 },
 "nbformat": 4,
 "nbformat_minor": 2
}
