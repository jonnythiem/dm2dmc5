{
 "cells": [
  {
   "cell_type": "code",
   "execution_count": 1,
   "metadata": {
    "scrolled": true
   },
   "outputs": [],
   "source": [
    "import pandas as pd\n",
    "import numpy as np\n",
    "import seaborn as sns\n",
    "import matplotlib.pyplot as plt\n",
    "sns.set_style('whitegrid')\n",
    "%matplotlib inline\n",
    "import warnings\n",
    "warnings.filterwarnings('ignore')\n"
   ]
  },
  {
   "cell_type": "code",
   "execution_count": 2,
   "metadata": {},
   "outputs": [],
   "source": [
    "from sklearn.model_selection import StratifiedKFold\n",
    "from sklearn.model_selection import cross_validate\n",
    "from sklearn.pipeline import Pipeline\n",
    "from sklearn.pipeline import FeatureUnion\n",
    "from sklearn.linear_model import LogisticRegression\n",
    "from sklearn.decomposition import PCA\n",
    "from sklearn.feature_selection import SelectKBest\n",
    "from sklearn.metrics import make_scorer\n",
    "from xgboost import XGBClassifier\n",
    "import featuretools as ft\n",
    "from sklearn.naive_bayes import GaussianNB\n",
    "from sklearn.tree import DecisionTreeClassifier\n",
    "from sklearn.neighbors import KNeighborsClassifier\n",
    "from sklearn.ensemble import RandomForestClassifier\n",
    "from sklearn.neural_network import MLPClassifier\n",
    "from sklearn.svm import SVC\n",
    "from sklearn.linear_model import SGDClassifier"
   ]
  },
  {
   "cell_type": "code",
   "execution_count": 39,
   "metadata": {},
   "outputs": [],
   "source": [
    "# load data\n",
    "dataframe_org = pd.read_csv('train.csv', delimiter='|')\n",
    "dataframe_org.drop(dataframe_org.loc[dataframe_org['trustLevel']>=3].index, inplace=True)\n",
    "\n",
    "dataframe = dataframe_org.copy()\n",
    "\n",
    "\n",
    "########### manual feature generation ##########\n",
    "\n",
    "# totalScanned:\n",
    "dataframe['totalScanned'] = dataframe['scannedLineItemsPerSecond'] * dataframe['totalScanTimeInSeconds']\n",
    "# avgValuePerScan:\n",
    "dataframe['avgTimePerScan'] = 1/ dataframe['scannedLineItemsPerSecond']\n",
    "dataframe['avgValuePerScan'] = dataframe['avgTimePerScan'] * dataframe['valuePerSecond']\n",
    "# manual feature generation - \"totalScanned\" ratios\n",
    "# withoutRegisPerPosition\n",
    "dataframe['withoutRegisPerPosition'] = dataframe['scansWithoutRegistration'] / dataframe['totalScanned']\n",
    "# ratio of scansWithoutRegis in totalScan\n",
    "# equivalent to lineItemVoidsPerPosition\n",
    "# Might indicate how new or ambivalent a customer is. Expected to be higher for low \"trustLevel\"\n",
    "# quantiModPerPosition\n",
    "dataframe['quantiModPerPosition'] = dataframe['quantityModifications'] / dataframe['totalScanned']\n",
    "# ratio of quanityMods in totalScan\n",
    "# manual feature generation - \"grandTotal\" ratios\n",
    "# lineItemVoidsPerTotal\n",
    "dataframe['lineItemVoidsPerTotal'] = dataframe['lineItemVoids'] / dataframe['grandTotal']\n",
    "# withoutRegisPerTotal\n",
    "dataframe['withoutRegisPerTotal'] = dataframe['scansWithoutRegistration'] / dataframe['grandTotal']\n",
    "# quantiModPerTotal\n",
    "dataframe['quantiModPerTotal'] = dataframe['quantityModifications'] / dataframe['grandTotal']\n",
    "# manual feature generation - \"totalScanTimeInSeconds\" ratios\n",
    "# lineItemVoidsPerTime\n",
    "dataframe['lineItemVoidsPerTime'] = dataframe['lineItemVoids'] / dataframe['totalScanTimeInSeconds']\n",
    "# withoutRegisPerTime\n",
    "dataframe['withoutRegisPerTime'] = dataframe['scansWithoutRegistration'] / dataframe['totalScanTimeInSeconds']\n",
    "# quantiModPerTime\n",
    "dataframe['quantiModPerTime'] = dataframe['quantityModifications'] / dataframe['totalScanTimeInSeconds']\n",
    "\n",
    "########### end manual feature generation ###########\n",
    "\n",
    "\n",
    "X = dataframe.drop('fraud',axis=1)\n",
    "y = dataframe['fraud']\n",
    "es = ft.EntitySet(id = 'customers')\n",
    "es = es.entity_from_dataframe(entity_id='customers',dataframe=X,\n",
    "                              variable_types = {'trustLevel': ft.variable_types.Categorical},index='id',make_index=True)\n",
    "\n"
   ]
  },
  {
   "cell_type": "code",
   "execution_count": 26,
   "metadata": {},
   "outputs": [],
   "source": [
    "dataframe = dataframe[['trustLevel', 'totalScanTimeInSeconds', 'grandTotal', 'lineItemVoids',\n",
    "       'scansWithoutRegistration', 'quantityModifications',\n",
    "       'scannedLineItemsPerSecond', 'valuePerSecond',\n",
    "       'lineItemVoidsPerPosition', 'totalScanned', 'avgTimePerScan',\n",
    "       'avgValuePerScan', 'withoutRegisPerPosition', 'quantiModPerPosition',\n",
    "       'lineItemVoidsPerTotal', 'withoutRegisPerTotal', 'quantiModPerTotal',\n",
    "       'lineItemVoidsPerTime', 'withoutRegisPerTime', 'quantiModPerTime', 'fraud']]"
   ]
  },
  {
   "cell_type": "code",
   "execution_count": 27,
   "metadata": {},
   "outputs": [],
   "source": [
    "cv = StratifiedKFold(n_splits=10, random_state=42)\n",
    "def profit_scorer(y, y_pred):\n",
    "    profit_matrix = {(0,0): 0, (0,1): -5, (1,0): -25, (1,1): 5}\n",
    "    return sum(profit_matrix[(pred, actual)] for pred, actual in zip(y_pred, y))\n",
    "profit_scoring = make_scorer(profit_scorer, greater_is_better=True)"
   ]
  },
  {
   "cell_type": "code",
   "execution_count": 28,
   "metadata": {},
   "outputs": [
    {
     "name": "stdout",
     "output_type": "stream",
     "text": [
      "Baseline models of original data w/out pre-processing and default parameters: \n",
      "\n",
      "XGB: -20\n",
      "LR: -335\n",
      "GNB: -6230\n",
      "KNN: -995\n",
      "RF: -215\n",
      "MLP: -1810\n",
      "SVC: -520\n",
      "SGD: -1785\n"
     ]
    }
   ],
   "source": [
    "#Baseline model of original data w/out pre-processing\n",
    "X_base_org = dataframe_org.drop('fraud',axis=1)\n",
    "y_base_org = dataframe_org['fraud']\n",
    "print('Baseline models of original data w/out pre-processing and default parameters: \\n')\n",
    "print('XGB: {}'.format(sum(cross_validate(XGBClassifier(), X_base_org, y=y_base_org, cv=cv, scoring=profit_scoring)['test_score'])))\n",
    "print('LR: {}'.format(sum(cross_validate(LogisticRegression(), X_base_org, y=y_base_org, cv=cv, scoring=profit_scoring)['test_score'])))\n",
    "print('GNB: {}'.format(sum(cross_validate(GaussianNB(), X_base_org, y=y_base_org, cv=cv, scoring=profit_scoring)['test_score'])))\n",
    "print('KNN: {}'.format(sum(cross_validate(KNeighborsClassifier(), X_base_org, y=y_base_org, cv=cv, scoring=profit_scoring)['test_score'])))\n",
    "print('RF: {}'.format(sum(cross_validate(RandomForestClassifier(), X_base_org, y=y_base_org, cv=cv, scoring=profit_scoring)['test_score'])))\n",
    "print('MLP: {}'.format(sum(cross_validate(MLPClassifier(), X_base_org, y=y_base_org, cv=cv, scoring=profit_scoring)['test_score'])))\n",
    "print('SVC: {}'.format(sum(cross_validate(SVC(), X_base_org, y=y_base_org, cv=cv, scoring=profit_scoring)['test_score'])))\n",
    "print('SGD: {}'.format(sum(cross_validate(SGDClassifier(), X_base_org, y=y_base_org, cv=cv, scoring=profit_scoring)['test_score'])))"
   ]
  },
  {
   "cell_type": "code",
   "execution_count": 29,
   "metadata": {
    "scrolled": true
   },
   "outputs": [
    {
     "name": "stdout",
     "output_type": "stream",
     "text": [
      "Baseline models of data w/ manual features generated: \n",
      "\n",
      "XGB: 160\n",
      "LR: 210\n",
      "GNB: -4840\n",
      "KNN: -970\n",
      "RF: -115\n",
      "MLP: -1130\n",
      "SVC: -520\n",
      "SGD: -3110\n"
     ]
    }
   ],
   "source": [
    "#Baseline models of data w/ manual feature generated\n",
    "X_base = dataframe.drop('fraud',axis=1)\n",
    "y_base = dataframe['fraud']\n",
    "print('Baseline models of data w/ manual features generated: \\n')\n",
    "print('XGB: {}'.format(sum(cross_validate(XGBClassifier(), X_base, y=y_base, cv=cv, scoring=profit_scoring)['test_score'])))\n",
    "print('LR: {}'.format(sum(cross_validate(LogisticRegression(), X_base, y=y_base, cv=cv, scoring=profit_scoring)['test_score'])))\n",
    "print('GNB: {}'.format(sum(cross_validate(GaussianNB(), X_base, y=y_base, cv=cv, scoring=profit_scoring)['test_score'])))\n",
    "print('KNN: {}'.format(sum(cross_validate(KNeighborsClassifier(), X_base, y=y_base, cv=cv, scoring=profit_scoring)['test_score'])))\n",
    "print('RF: {}'.format(sum(cross_validate(RandomForestClassifier(), X_base, y=y_base, cv=cv, scoring=profit_scoring)['test_score'])))\n",
    "print('MLP: {}'.format(sum(cross_validate(MLPClassifier(), X_base, y=y_base, cv=cv, scoring=profit_scoring)['test_score'])))\n",
    "print('SVC: {}'.format(sum(cross_validate(SVC(), X_base, y=y_base, cv=cv, scoring=profit_scoring)['test_score'])))\n",
    "print('SGD: {}'.format(sum(cross_validate(SGDClassifier(), X_base, y=y_base, cv=cv, scoring=profit_scoring)['test_score'])))"
   ]
  },
  {
   "cell_type": "code",
   "execution_count": 30,
   "metadata": {},
   "outputs": [
    {
     "data": {
      "text/plain": [
       "<matplotlib.axes._subplots.AxesSubplot at 0x1a4dcb97f28>"
      ]
     },
     "execution_count": 30,
     "metadata": {},
     "output_type": "execute_result"
    },
    {
     "data": {
      "image/png": "[encoded data removed]",
      "text/plain": [
       "<Figure size 1152x864 with 2 Axes>"
      ]
     },
     "metadata": {
      "needs_background": "light"
     },
     "output_type": "display_data"
    }
   ],
   "source": [
    "plt.figure(figsize=(16,12))\n",
    "sns.heatmap(dataframe.corr(), cmap='coolwarm')"
   ]
  },
  {
   "cell_type": "code",
   "execution_count": 31,
   "metadata": {},
   "outputs": [
    {
     "name": "stdout",
     "output_type": "stream",
     "text": [
      "[1.09e+01 9.27e+03 1.60e+01 1.53e+01 2.75e+01 5.83e-03 6.48e-01 8.57e+00\n",
      " 3.86e+01 9.25e+02 5.67e+03 4.08e+02 3.57e+01 2.36e+01 2.47e+01 5.90e+00\n",
      " 9.18e+00 9.92e-01 1.01e+00 6.98e-01]\n",
      "Index(['trustLevel', 'totalScanTimeInSeconds', 'grandTotal', 'lineItemVoids',\n",
      "       'scansWithoutRegistration', 'quantityModifications',\n",
      "       'scannedLineItemsPerSecond', 'valuePerSecond',\n",
      "       'lineItemVoidsPerPosition', 'totalScanned', 'avgTimePerScan',\n",
      "       'avgValuePerScan', 'withoutRegisPerPosition', 'quantiModPerPosition',\n",
      "       'lineItemVoidsPerTotal', 'withoutRegisPerTotal', 'quantiModPerTotal',\n",
      "       'lineItemVoidsPerTime', 'withoutRegisPerTime', 'quantiModPerTime'],\n",
      "      dtype='object')\n",
      "[[7.70e+02 4.23e-01 2.60e+01 2.96e+01 4.27e-01 1.92e-01]\n",
      " [1.54e+03 0.00e+00 1.00e+01 1.55e+02 2.28e+00 8.00e-01]\n",
      " [7.25e+02 3.70e-01 2.70e+01 2.69e+01 1.52e+00 7.41e-02]\n",
      " [8.70e+02 5.00e-01 6.00e+00 1.45e+02 5.41e+00 1.67e-01]\n",
      " [1.25e+02 2.08e-01 2.40e+01 5.21e+00 1.06e+00 2.50e-01]]\n"
     ]
    }
   ],
   "source": [
    "# SelectKBest with chi squared (chi^2) statistical test for non-negative features\n",
    "from sklearn.feature_selection import chi2\n",
    "# feature extraction\n",
    "test = SelectKBest(score_func=chi2, k=6)\n",
    "fit = test.fit(X_base, y_base)\n",
    "# summarize scores\n",
    "np.set_printoptions(precision=2)\n",
    "print(fit.scores_)\n",
    "print(X_base.columns)\n",
    "features = fit.transform(X_base)\n",
    "# summarize selected features\n",
    "print(features[0:5,:])"
   ]
  },
  {
   "cell_type": "markdown",
   "metadata": {},
   "source": [
    "6 Features selected by SelectKBest based on chi2 (the ones that have the highest score in the first array of the output)<br>'totalScanTimeInSeconds', 'avgTimePerScan', 'totalScanned', 'avgValuePerScan', 'trustLevel', 'lineItemVoidsPerPosition'"
   ]
  },
  {
   "cell_type": "code",
   "execution_count": 32,
   "metadata": {},
   "outputs": [
    {
     "name": "stdout",
     "output_type": "stream",
     "text": [
      "Different classifiers tested w/ only the 6 best performing features selected by KSelect: \n",
      "\n",
      "XGB: -10\n",
      "LR: -55\n",
      "GNB: -3565\n",
      "KNN: -830\n",
      "RF: -205\n",
      "MLP: -755\n",
      "SVC: -545\n",
      "SGD: -5275\n"
     ]
    }
   ],
   "source": [
    "#testing the 6 best performing features w/ all others excluded \n",
    "X_kselect = dataframe[['totalScanTimeInSeconds', 'avgTimePerScan', 'totalScanned', \n",
    "                       'avgValuePerScan', 'trustLevel', 'lineItemVoidsPerPosition']]\n",
    "y_kselect = dataframe['fraud']\n",
    "print('Different classifiers tested w/ only the 6 best performing features selected by KSelect: \\n')\n",
    "print('XGB: {}'.format(sum(cross_validate(XGBClassifier(), X_kselect, y=y_kselect, cv=cv, scoring=profit_scoring)['test_score'])))\n",
    "print('LR: {}'.format(sum(cross_validate(LogisticRegression(), X_kselect, y=y_kselect, cv=cv, scoring=profit_scoring)['test_score'])))\n",
    "print('GNB: {}'.format(sum(cross_validate(GaussianNB(), X_kselect, y=y_kselect, cv=cv, scoring=profit_scoring)['test_score'])))\n",
    "print('KNN: {}'.format(sum(cross_validate(KNeighborsClassifier(), X_kselect, y=y_kselect, cv=cv, scoring=profit_scoring)['test_score'])))\n",
    "print('RF: {}'.format(sum(cross_validate(RandomForestClassifier(), X_kselect, y=y_kselect, cv=cv, scoring=profit_scoring)['test_score'])))\n",
    "print('MLP: {}'.format(sum(cross_validate(MLPClassifier(), X_kselect, y=y_kselect, cv=cv, scoring=profit_scoring)['test_score'])))\n",
    "print('SVC: {}'.format(sum(cross_validate(SVC(), X_kselect, y=y_kselect, cv=cv, scoring=profit_scoring)['test_score'])))\n",
    "print('SGD: {}'.format(sum(cross_validate(SGDClassifier(), X_kselect, y=y_kselect, cv=cv, scoring=profit_scoring)['test_score'])))"
   ]
  },
  {
   "cell_type": "code",
   "execution_count": 33,
   "metadata": {},
   "outputs": [
    {
     "name": "stdout",
     "output_type": "stream",
     "text": [
      "XGB with SelectKBest k=4: \n",
      "\n",
      "W/out pre-processing: -20\n",
      "W/ manual feature generated: 200\n",
      "---------\n",
      "XGB with SelectKBest k=5: \n",
      "\n",
      "W/out pre-processing: -20\n",
      "W/ manual feature generated: 200\n",
      "---------\n",
      "XGB with SelectKBest k=6: \n",
      "\n",
      "W/out pre-processing: -320\n",
      "W/ manual feature generated: -35\n",
      "---------\n",
      "XGB with SelectKBest k=7: \n",
      "\n",
      "W/out pre-processing: -210\n",
      "W/ manual feature generated: 30\n",
      "---------\n",
      "XGB with SelectKBest k=8: \n",
      "\n",
      "W/out pre-processing: -125\n",
      "W/ manual feature generated: 165\n",
      "---------\n",
      "XGB with SelectKBest k=9: \n",
      "\n",
      "W/out pre-processing: -20\n",
      "W/ manual feature generated: 200\n",
      "---------\n",
      "XGB with SelectKBest k=10: \n",
      "\n",
      "W/out pre-processing: -20\n",
      "W/ manual feature generated: 200\n"
     ]
    }
   ],
   "source": [
    "print('XGB with SelectKBest k=4: \\n')\n",
    "# create feature union\n",
    "features = []\n",
    "features.append(('select_best', SelectKBest(k=9)))\n",
    "feature_union = FeatureUnion(features)\n",
    "estimators = []\n",
    "estimators.append(('feature_union', feature_union))\n",
    "estimators.append(('xgb', XGBClassifier()))\n",
    "xgb_pca_kBest = Pipeline(estimators)\n",
    "# evaluate pipeline\n",
    "\n",
    "print('W/out pre-processing: {}'.format(sum(cross_validate(xgb_pca_kBest, X_base_org, y=y_base_org, \n",
    "                                                           cv=cv, scoring=profit_scoring)['test_score'])))\n",
    "print('W/ manual feature generated: {}'.format(sum(cross_validate(xgb_pca_kBest, X_base, y=y_base\n",
    "                                                          , cv=cv, scoring=profit_scoring)['test_score'])))\n",
    "print('---------')\n",
    "print('XGB with SelectKBest k=5: \\n')\n",
    "# create feature union\n",
    "features = []\n",
    "features.append(('select_best', SelectKBest(k=9)))\n",
    "feature_union = FeatureUnion(features)\n",
    "estimators = []\n",
    "estimators.append(('feature_union', feature_union))\n",
    "estimators.append(('xgb', XGBClassifier()))\n",
    "xgb_pca_kBest = Pipeline(estimators)\n",
    "# evaluate pipeline\n",
    "\n",
    "print('W/out pre-processing: {}'.format(sum(cross_validate(xgb_pca_kBest, X_base_org, y=y_base_org, \n",
    "                                                           cv=cv, scoring=profit_scoring)['test_score'])))\n",
    "print('W/ manual feature generated: {}'.format(sum(cross_validate(xgb_pca_kBest, X_base, y=y_base\n",
    "                                                          , cv=cv, scoring=profit_scoring)['test_score'])))\n",
    "print('---------')\n",
    "print('XGB with SelectKBest k=6: \\n')\n",
    "# create feature union\n",
    "features = []\n",
    "features.append(('select_best', SelectKBest(k=6)))\n",
    "feature_union = FeatureUnion(features)\n",
    "estimators = []\n",
    "estimators.append(('feature_union', feature_union))\n",
    "estimators.append(('xgb', XGBClassifier()))\n",
    "xgb_pca_kBest = Pipeline(estimators)\n",
    "# evaluate pipeline\n",
    "\n",
    "print('W/out pre-processing: {}'.format(sum(cross_validate(xgb_pca_kBest, X_base_org, y=y_base_org, \n",
    "                                                           cv=cv, scoring=profit_scoring)['test_score'])))\n",
    "print('W/ manual feature generated: {}'.format(sum(cross_validate(xgb_pca_kBest, X_base, y=y_base\n",
    "                                                          , cv=cv, scoring=profit_scoring)['test_score'])))\n",
    "\n",
    "print('---------')\n",
    "print('XGB with SelectKBest k=7: \\n')\n",
    "# create feature union\n",
    "features = []\n",
    "features.append(('select_best', SelectKBest(k=7)))\n",
    "feature_union = FeatureUnion(features)\n",
    "estimators = []\n",
    "estimators.append(('feature_union', feature_union))\n",
    "estimators.append(('xgb', XGBClassifier()))\n",
    "xgb_pca_kBest = Pipeline(estimators)\n",
    "# evaluate pipeline\n",
    "\n",
    "print('W/out pre-processing: {}'.format(sum(cross_validate(xgb_pca_kBest, X_base_org, y=y_base_org, \n",
    "                                                           cv=cv, scoring=profit_scoring)['test_score'])))\n",
    "print('W/ manual feature generated: {}'.format(sum(cross_validate(xgb_pca_kBest, X_base, y=y_base\n",
    "                                                          , cv=cv, scoring=profit_scoring)['test_score'])))\n",
    "\n",
    "print('---------')\n",
    "print('XGB with SelectKBest k=8: \\n')\n",
    "# create feature union\n",
    "features = []\n",
    "features.append(('select_best', SelectKBest(k=8)))\n",
    "feature_union = FeatureUnion(features)\n",
    "estimators = []\n",
    "estimators.append(('feature_union', feature_union))\n",
    "estimators.append(('xgb', XGBClassifier()))\n",
    "xgb_pca_kBest = Pipeline(estimators)\n",
    "# evaluate pipeline\n",
    "\n",
    "print('W/out pre-processing: {}'.format(sum(cross_validate(xgb_pca_kBest, X_base_org, y=y_base_org, \n",
    "                                                           cv=cv, scoring=profit_scoring)['test_score'])))\n",
    "print('W/ manual feature generated: {}'.format(sum(cross_validate(xgb_pca_kBest, X_base, y=y_base\n",
    "                                                          , cv=cv, scoring=profit_scoring)['test_score'])))\n",
    "print('---------')\n",
    "print('XGB with SelectKBest k=9: \\n')\n",
    "# create feature union\n",
    "features = []\n",
    "features.append(('select_best', SelectKBest(k=9)))\n",
    "feature_union = FeatureUnion(features)\n",
    "estimators = []\n",
    "estimators.append(('feature_union', feature_union))\n",
    "estimators.append(('xgb', XGBClassifier()))\n",
    "xgb_pca_kBest = Pipeline(estimators)\n",
    "# evaluate pipeline\n",
    "\n",
    "print('W/out pre-processing: {}'.format(sum(cross_validate(xgb_pca_kBest, X_base_org, y=y_base_org, \n",
    "                                                           cv=cv, scoring=profit_scoring)['test_score'])))\n",
    "print('W/ manual feature generated: {}'.format(sum(cross_validate(xgb_pca_kBest, X_base, y=y_base\n",
    "                                                          , cv=cv, scoring=profit_scoring)['test_score'])))\n",
    "print('---------')\n",
    "print('XGB with SelectKBest k=10: \\n')\n",
    "# create feature union\n",
    "features = []\n",
    "features.append(('select_best', SelectKBest(k=9)))\n",
    "feature_union = FeatureUnion(features)\n",
    "estimators = []\n",
    "estimators.append(('feature_union', feature_union))\n",
    "estimators.append(('xgb', XGBClassifier()))\n",
    "xgb_pca_kBest = Pipeline(estimators)\n",
    "# evaluate pipeline\n",
    "\n",
    "print('W/out pre-processing: {}'.format(sum(cross_validate(xgb_pca_kBest, X_base_org, y=y_base_org, \n",
    "                                                           cv=cv, scoring=profit_scoring)['test_score'])))\n",
    "print('W/ manual feature generated: {}'.format(sum(cross_validate(xgb_pca_kBest, X_base, y=y_base\n",
    "                                                          , cv=cv, scoring=profit_scoring)['test_score'])))"
   ]
  },
  {
   "cell_type": "code",
   "execution_count": 34,
   "metadata": {},
   "outputs": [
    {
     "name": "stdout",
     "output_type": "stream",
     "text": [
      "-405\n",
      "-145\n"
     ]
    }
   ],
   "source": [
    "# create feature union\n",
    "features = []\n",
    "features.append(('pca', PCA(n_components=3)))\n",
    "features.append(('select_best', SelectKBest(k=4)))\n",
    "feature_union = FeatureUnion(features)\n",
    "estimators = []\n",
    "estimators.append(('feature_union', feature_union))\n",
    "estimators.append(('xgb', XGBClassifier()))\n",
    "xgb_pca_kBest = Pipeline(estimators)\n",
    "# evaluate pipeline\n",
    "\n",
    "print(sum(cross_validate(xgb_pca_kBest, X_base_org, y=y_base_org, cv=cv, scoring=profit_scoring)['test_score']))\n",
    "print(sum(cross_validate(xgb_pca_kBest, X_base, y=y_base, cv=cv, scoring=profit_scoring)['test_score']))"
   ]
  },
  {
   "cell_type": "code",
   "execution_count": 35,
   "metadata": {},
   "outputs": [
    {
     "name": "stdout",
     "output_type": "stream",
     "text": [
      "XGB w/ PCA & featuretools & SelectKBest on data w/ additional manual features generated: 100\n"
     ]
    }
   ],
   "source": [
    "# Testing PCA, automatic feature generation w/ featuretools (previously manual generated features incorporated), \n",
    "# and SelectKBest\n",
    "\n",
    "# create feature union\n",
    "features = []\n",
    "features.append(('pca', PCA(n_components=3)))\n",
    "features.append(('ft', ft.wrappers.DFSTransformer(entityset = es, target_entity = 'customers', \n",
    "                                 agg_primitives = ['skew','trend','median', 'mean', 'max', 'std'],\n",
    "                                 trans_primitives = ['subtract', 'percentile'])))\n",
    "features.append(('select_best', SelectKBest(k=4)))\n",
    "feature_union = FeatureUnion(features)\n",
    "# create pipeline\n",
    "estimators = []\n",
    "estimators.append(('feature_union', feature_union))\n",
    "estimators.append(('xgb', XGBClassifier()))\n",
    "xgb_af = Pipeline(estimators)\n",
    "\n",
    "print('XGB w/ PCA & featuretools & SelectKBest on data w/ additional manual features generated: {}'.format(sum(cross_validate(xgb_af, X, y=y, cv=cv, scoring=profit_scoring)['test_score'])))"
   ]
  },
  {
   "cell_type": "markdown",
   "metadata": {},
   "source": [
    "Output: XGB w/ PCA & featuretools & SelectKBest on data w/ additional manual features generated: 100"
   ]
  },
  {
   "cell_type": "code",
   "execution_count": 36,
   "metadata": {
    "scrolled": true
   },
   "outputs": [
    {
     "name": "stdout",
     "output_type": "stream",
     "text": [
      "XGB w/ PCA & featuretools (no primitives selected) & SelectKBest on data w/ additional manual features generated: 100\n",
      "LR w/ PCA & featuretools (no primitives selected) & SelectKBest on data w/ additional manual features generated: 305\n",
      "RF w/ PCA & featuretools (no primitives selected) & SelectKBest on data w/ additional manual features generated: -30\n"
     ]
    }
   ],
   "source": [
    "# Testing PCA, automatic feature generation w/ featuretools (previously manual generated features incorporated), \n",
    "# and SelectKBest\n",
    "# create feature union\n",
    "features = []\n",
    "features.append(('pca', PCA(n_components=3)))\n",
    "features.append(('ft', ft.wrappers.DFSTransformer(entityset = es, target_entity = 'customers')))\n",
    "features.append(('select_best', SelectKBest(k=4)))\n",
    "feature_union = FeatureUnion(features)\n",
    "# create pipeline\n",
    "estimators = []\n",
    "estimators.append(('feature_union', feature_union))\n",
    "estimators.append(('xgb', XGBClassifier()))\n",
    "xgb_af = Pipeline(estimators)\n",
    "\n",
    "print('XGB w/ PCA & featuretools (no primitives selected) & SelectKBest on data w/ additional manual features generated: {}'\n",
    "      .format(sum(cross_validate(xgb_af, X, y=y, cv=cv, scoring=profit_scoring)['test_score'])))\n",
    "\n",
    "# create pipeline\n",
    "estimators = []\n",
    "estimators.append(('feature_union', feature_union))\n",
    "estimators.append(('LR', LogisticRegression()))\n",
    "lr_af = Pipeline(estimators)\n",
    "\n",
    "print('LR w/ PCA & featuretools (no primitives selected) & SelectKBest on data w/ additional manual features generated: {}'\n",
    "      .format(sum(cross_validate(lr_af, X, y=y, cv=cv, scoring=profit_scoring)['test_score'])))\n",
    "\n",
    "# create pipeline\n",
    "estimators = []\n",
    "estimators.append(('feature_union', feature_union))\n",
    "estimators.append(('RF', RandomForestClassifier()))\n",
    "rf_af = Pipeline(estimators)\n",
    "\n",
    "print('RF w/ PCA & featuretools (no primitives selected) & SelectKBest on data w/ additional manual features generated: {}'\n",
    "      .format(sum(cross_validate(rf_af, X, y=y, cv=cv, scoring=profit_scoring)['test_score'])))"
   ]
  },
  {
   "cell_type": "markdown",
   "metadata": {},
   "source": [
    "Output: <br>\n",
    "XGB w/ PCA & featuretools (no primitives selected) & SelectKBest on data w/ additional manual features generated: 100<br>\n",
    "LR w/ PCA & featuretools (no primitives selected) & SelectKBest on data w/ additional manual features generated: 305<br>\n",
    "RF w/ PCA & featuretools (no primitives selected) & SelectKBest on data w/ additional manual features generated: -30<br>"
   ]
  },
  {
   "cell_type": "code",
   "execution_count": 37,
   "metadata": {
    "scrolled": true
   },
   "outputs": [
    {
     "name": "stdout",
     "output_type": "stream",
     "text": [
      "XGB w/ featuretools (no primitives selected) on data w/ additional manual generated features: 160\n",
      "LR w/ featuretools (no primitives selected) on data w/ additional manual generated features: 235\n",
      "RF w/ featuretools (no primitives selected) on data w/ additional manual generated features: 40\n"
     ]
    }
   ],
   "source": [
    "# Testing automatic feature generation w/ featuretools\n",
    "# create feature union\n",
    "features = []\n",
    "features.append(('ft', ft.wrappers.DFSTransformer(entityset = es, target_entity = 'customers')))\n",
    "feature_union = FeatureUnion(features)\n",
    "# create pipeline\n",
    "estimators = []\n",
    "estimators.append(('feature_union', feature_union))\n",
    "estimators.append(('xgb', XGBClassifier()))\n",
    "xgb_af = Pipeline(estimators)\n",
    "\n",
    "print('XGB w/ featuretools (no primitives selected) on data w/ additional manual generated features: {}'\n",
    "      .format(sum(cross_validate(xgb_af, X, y=y, cv=cv, scoring=profit_scoring)['test_score'])))\n",
    "\n",
    "# create pipeline\n",
    "estimators = []\n",
    "estimators.append(('feature_union', feature_union))\n",
    "estimators.append(('LR', LogisticRegression()))\n",
    "lr_af = Pipeline(estimators)\n",
    "\n",
    "print('LR w/ featuretools (no primitives selected) on data w/ additional manual generated features: {}'\n",
    "      .format(sum(cross_validate(lr_af, X, y=y, cv=cv, scoring=profit_scoring)['test_score'])))\n",
    "\n",
    "# create pipeline\n",
    "estimators = []\n",
    "estimators.append(('feature_union', feature_union))\n",
    "estimators.append(('RF', RandomForestClassifier()))\n",
    "rf_af = Pipeline(estimators)\n",
    "\n",
    "print('RF w/ featuretools (no primitives selected) on data w/ additional manual generated features: {}'\n",
    "      .format(sum(cross_validate(rf_af, X, y=y, cv=cv, scoring=profit_scoring)['test_score'])))"
   ]
  },
  {
   "cell_type": "markdown",
   "metadata": {},
   "source": [
    "Output:<br>\n",
    "XGB w/ featuretools (no primitives selected) on data w/ additional manual generated features: 160<br>\n",
    "LR w/ featuretools (no primitives selected) on data w/ additional manual generated features: 235<br>\n",
    "RF w/ featuretools (no primitives selected) on data w/ additional manual generated features: 40<br>"
   ]
  },
  {
   "cell_type": "code",
   "execution_count": 38,
   "metadata": {
    "scrolled": true
   },
   "outputs": [
    {
     "name": "stdout",
     "output_type": "stream",
     "text": [
      "Index(['trustLevel', 'totalScanTimeInSeconds', 'grandTotal', 'lineItemVoids',\n",
      "       'scansWithoutRegistration', 'quantityModifications',\n",
      "       'scannedLineItemsPerSecond', 'valuePerSecond',\n",
      "       'lineItemVoidsPerPosition', 'totalScanned', 'avgTimePerScan',\n",
      "       'avgValuePerScan', 'withoutRegisPerPosition', 'quantiModPerPosition',\n",
      "       'lineItemVoidsPerTotal', 'withoutRegisPerTotal', 'quantiModPerTotal',\n",
      "       'lineItemVoidsPerTime', 'withoutRegisPerTime', 'quantiModPerTime'],\n",
      "      dtype='object')\n",
      "[0.13 0.06 0.01 0.03 0.03 0.02 0.04 0.02 0.04 0.32 0.06 0.03 0.05 0.02\n",
      " 0.02 0.02 0.02 0.02 0.03 0.01]\n"
     ]
    }
   ],
   "source": [
    "from sklearn.ensemble import ExtraTreesClassifier\n",
    "model = ExtraTreesClassifier()\n",
    "model.fit(X_base, y_base)\n",
    "print(X_base.columns)\n",
    "print(model.feature_importances_)"
   ]
  },
  {
   "cell_type": "markdown",
   "metadata": {},
   "source": [
    "'trustLevel','totalScanned','totalScanTimeInSeconds','avgTimePerScan' have the highest feature importance with ExtraTreesClassifier"
   ]
  },
  {
   "cell_type": "markdown",
   "metadata": {},
   "source": [
    "### The data w/ the manual features generated leads to the best performance for all tests except for Logistic Regression w/ PCA & featuretools (no primitives selected) & SelectKBest (k=4) on data w/ additional manual generated features incorporated"
   ]
  }
 ],
 "metadata": {
  "kernelspec": {
   "display_name": "Python 3",
   "language": "python",
   "name": "python3"
  },
  "language_info": {
   "codemirror_mode": {
    "name": "ipython",
    "version": 3
   },
   "file_extension": ".py",
   "mimetype": "text/x-python",
   "name": "python",
   "nbconvert_exporter": "python",
   "pygments_lexer": "ipython3",
   "version": "3.6.7"
  }
 },
 "nbformat": 4,
 "nbformat_minor": 2
}
